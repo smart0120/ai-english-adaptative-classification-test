{
 "cells": [
  {
   "cell_type": "markdown",
   "metadata": {},
   "source": [
    "# catsim"
   ]
  },
  {
   "cell_type": "code",
   "execution_count": 1,
   "metadata": {},
   "outputs": [],
   "source": [
    "from catsim.cat import generate_item_bank\n",
    "from catsim.initialization import RandomInitializer \n",
    "from catsim.selection import MaxInfoSelector\n",
    "from catsim.estimation import HillClimbingEstimator\n",
    "from catsim.stopping import MaxItemStopper\n",
    "from catsim.simulation import Simulator"
   ]
  },
  {
   "cell_type": "markdown",
   "metadata": {},
   "source": [
    "# Pyhon Version"
   ]
  },
  {
   "cell_type": "code",
   "execution_count": 2,
   "metadata": {},
   "outputs": [
    {
     "name": "stdout",
     "output_type": "stream",
     "text": [
      "3.7.1 (default, Dec 14 2018, 19:28:38) \n",
      "[GCC 7.3.0]\n",
      "sys.version_info(major=3, minor=7, micro=1, releaselevel='final', serial=0)\n"
     ]
    }
   ],
   "source": [
    "import sys\n",
    "print(sys.version)\n",
    "print(sys.version_info)"
   ]
  },
  {
   "cell_type": "markdown",
   "metadata": {},
   "source": [
    "# Data pre-processing"
   ]
  },
  {
   "cell_type": "code",
   "execution_count": 3,
   "metadata": {},
   "outputs": [
    {
     "data": {
      "text/plain": [
       "['./data/difficultyanalysis.csv']"
      ]
     },
     "execution_count": 3,
     "metadata": {},
     "output_type": "execute_result"
    }
   ],
   "source": [
    "import glob\n",
    "glob.glob('./data/*.csv')"
   ]
  },
  {
   "cell_type": "code",
   "execution_count": 4,
   "metadata": {},
   "outputs": [],
   "source": [
    "import pandas as pd\n",
    "import numpy as np"
   ]
  },
  {
   "cell_type": "code",
   "execution_count": 5,
   "metadata": {},
   "outputs": [
    {
     "data": {
      "text/plain": [
       "(432, 5)"
      ]
     },
     "execution_count": 5,
     "metadata": {},
     "output_type": "execute_result"
    }
   ],
   "source": [
    "df = pd.read_csv(\"./data/difficultyanalysis.csv\")\n",
    "df2 = pd.read_excel(\"./data/Banco de preguntas.xlsx\")\n",
    "small_ds = df[['PREGUNTA', 'part', 'fscores']]\n",
    "# = \n",
    "small_ds2 = df2[['ENUNCIADO', 'CORRECTA', 'TEXTO']]\n",
    "small_ds2.columns = ['PREGUNTA', 'CORRECTA', 'TEXTO']\n",
    "small_ds2\n",
    "dataset = pd.merge(small_ds, small_ds2, how='outer')\n",
    "dataset.columns = ['PREGUNTA', 'Parte', 'Dificultad', 'OPCION_CORRECTA', 'TEXTO']\n",
    "dataset['Discriminacion'] = np.ones(len(dataset))\n",
    "#dataset['c'] = np.ones(len(dataset))\n",
    "#dataset['d'] = np.ones(len(dataset))\n",
    "c = np.random.normal(.32, .02, (1, len(df)))\n",
    "d = np.random.uniform(.78, 1, (1, len(df)))\n",
    "dataset = dataset.dropna()\n",
    "lista = [np.unique(dataset['Dificultad']), c, d]\n",
    "#items = np.append(np.ones(len(df)).T, np.unique(dataset['Dificultad']), axis=0)\n",
    "#items = np.append(items, c)\n",
    "#items = np.append(items, d)        \n",
    "items = np.ones(len(df)).reshape(432, 1)\n",
    "items = np.append(items, np.unique(dataset['Dificultad']).reshape(432, 1), axis=1)\n",
    "items = np.append(items, c.reshape(432, 1), axis=1)\n",
    "items = np.append(items, d.reshape(432, 1), axis=1)\n",
    "items = np.append(items, np.zeros((432, 1)), axis=1)\n",
    "#items = np.append(c, d)\n",
    "#items = np.append(items, np.unique(dataset['Dificultad']))\n",
    "#items = np.append(items, np.ones(len(df)))\n",
    "#items = items.reshape((432, 4))\n",
    "items.shape"
   ]
  },
  {
   "cell_type": "code",
   "execution_count": 6,
   "metadata": {},
   "outputs": [
    {
     "data": {
      "text/html": [
       "<div>\n",
       "<style scoped>\n",
       "    .dataframe tbody tr th:only-of-type {\n",
       "        vertical-align: middle;\n",
       "    }\n",
       "\n",
       "    .dataframe tbody tr th {\n",
       "        vertical-align: top;\n",
       "    }\n",
       "\n",
       "    .dataframe thead th {\n",
       "        text-align: right;\n",
       "    }\n",
       "</style>\n",
       "<table border=\"1\" class=\"dataframe\">\n",
       "  <thead>\n",
       "    <tr style=\"text-align: right;\">\n",
       "      <th></th>\n",
       "      <th>PREGUNTA</th>\n",
       "      <th>Parte</th>\n",
       "      <th>Dificultad</th>\n",
       "      <th>OPCION_CORRECTA</th>\n",
       "      <th>TEXTO</th>\n",
       "      <th>Discriminacion</th>\n",
       "    </tr>\n",
       "  </thead>\n",
       "  <tbody>\n",
       "    <tr>\n",
       "      <th>0</th>\n",
       "      <td>A: A storm was brewing. Nonetheless, the fishe...</td>\n",
       "      <td>3.0</td>\n",
       "      <td>-0.659987</td>\n",
       "      <td>S</td>\n",
       "      <td>a) I can&amp;#8217;t believe he was that stupid!</td>\n",
       "      <td>1.0</td>\n",
       "    </tr>\n",
       "    <tr>\n",
       "      <th>1</th>\n",
       "      <td>A: A storm was brewing. Nonetheless, the fishe...</td>\n",
       "      <td>3.0</td>\n",
       "      <td>-0.659987</td>\n",
       "      <td>N</td>\n",
       "      <td>b) At least, he&amp;#146;ll do better than last time.</td>\n",
       "      <td>1.0</td>\n",
       "    </tr>\n",
       "    <tr>\n",
       "      <th>2</th>\n",
       "      <td>A: A storm was brewing. Nonetheless, the fishe...</td>\n",
       "      <td>3.0</td>\n",
       "      <td>-0.659987</td>\n",
       "      <td>N</td>\n",
       "      <td>c) Good for him!</td>\n",
       "      <td>1.0</td>\n",
       "    </tr>\n",
       "    <tr>\n",
       "      <th>3</th>\n",
       "      <td>_____________ a few bananas and a few apples i...</td>\n",
       "      <td>1.0</td>\n",
       "      <td>0.758131</td>\n",
       "      <td>N</td>\n",
       "      <td>a) They are</td>\n",
       "      <td>1.0</td>\n",
       "    </tr>\n",
       "    <tr>\n",
       "      <th>4</th>\n",
       "      <td>_____________ a few bananas and a few apples i...</td>\n",
       "      <td>1.0</td>\n",
       "      <td>0.758131</td>\n",
       "      <td>N</td>\n",
       "      <td>b) Exists</td>\n",
       "      <td>1.0</td>\n",
       "    </tr>\n",
       "    <tr>\n",
       "      <th>5</th>\n",
       "      <td>_____________ a few bananas and a few apples i...</td>\n",
       "      <td>1.0</td>\n",
       "      <td>0.758131</td>\n",
       "      <td>S</td>\n",
       "      <td>c) There are</td>\n",
       "      <td>1.0</td>\n",
       "    </tr>\n",
       "    <tr>\n",
       "      <th>6</th>\n",
       "      <td>After what happened the last time, ___________...</td>\n",
       "      <td>1.0</td>\n",
       "      <td>1.394688</td>\n",
       "      <td>N</td>\n",
       "      <td>c)  you  should no trust him again.</td>\n",
       "      <td>1.0</td>\n",
       "    </tr>\n",
       "    <tr>\n",
       "      <th>7</th>\n",
       "      <td>After what happened the last time, ___________...</td>\n",
       "      <td>1.0</td>\n",
       "      <td>1.394688</td>\n",
       "      <td>N</td>\n",
       "      <td>b) you not should trust him again.</td>\n",
       "      <td>1.0</td>\n",
       "    </tr>\n",
       "    <tr>\n",
       "      <th>8</th>\n",
       "      <td>After what happened the last time, ___________...</td>\n",
       "      <td>1.0</td>\n",
       "      <td>1.394688</td>\n",
       "      <td>S</td>\n",
       "      <td>a) you shouldn&amp;#146;t trust him again.</td>\n",
       "      <td>1.0</td>\n",
       "    </tr>\n",
       "    <tr>\n",
       "      <th>9</th>\n",
       "      <td>A good driver _____________</td>\n",
       "      <td>1.0</td>\n",
       "      <td>0.418209</td>\n",
       "      <td>S</td>\n",
       "      <td>c) shouldn&amp;#146;t exceed the speed limit.</td>\n",
       "      <td>1.0</td>\n",
       "    </tr>\n",
       "  </tbody>\n",
       "</table>\n",
       "</div>"
      ],
      "text/plain": [
       "                                            PREGUNTA  Parte  Dificultad  \\\n",
       "0  A: A storm was brewing. Nonetheless, the fishe...    3.0   -0.659987   \n",
       "1  A: A storm was brewing. Nonetheless, the fishe...    3.0   -0.659987   \n",
       "2  A: A storm was brewing. Nonetheless, the fishe...    3.0   -0.659987   \n",
       "3  _____________ a few bananas and a few apples i...    1.0    0.758131   \n",
       "4  _____________ a few bananas and a few apples i...    1.0    0.758131   \n",
       "5  _____________ a few bananas and a few apples i...    1.0    0.758131   \n",
       "6  After what happened the last time, ___________...    1.0    1.394688   \n",
       "7  After what happened the last time, ___________...    1.0    1.394688   \n",
       "8  After what happened the last time, ___________...    1.0    1.394688   \n",
       "9                        A good driver _____________    1.0    0.418209   \n",
       "\n",
       "  OPCION_CORRECTA                                              TEXTO  \\\n",
       "0               S       a) I can&#8217;t believe he was that stupid!   \n",
       "1               N  b) At least, he&#146;ll do better than last time.   \n",
       "2               N                                   c) Good for him!   \n",
       "3               N                                        a) They are   \n",
       "4               N                                          b) Exists   \n",
       "5               S                                       c) There are   \n",
       "6               N                c)  you  should no trust him again.   \n",
       "7               N                 b) you not should trust him again.   \n",
       "8               S             a) you shouldn&#146;t trust him again.   \n",
       "9               S          c) shouldn&#146;t exceed the speed limit.   \n",
       "\n",
       "   Discriminacion  \n",
       "0             1.0  \n",
       "1             1.0  \n",
       "2             1.0  \n",
       "3             1.0  \n",
       "4             1.0  \n",
       "5             1.0  \n",
       "6             1.0  \n",
       "7             1.0  \n",
       "8             1.0  \n",
       "9             1.0  "
      ]
     },
     "execution_count": 6,
     "metadata": {},
     "output_type": "execute_result"
    }
   ],
   "source": [
    "dataset.head(10)"
   ]
  },
  {
   "cell_type": "markdown",
   "metadata": {},
   "source": [
    "# catsim process"
   ]
  },
  {
   "cell_type": "code",
   "execution_count": 7,
   "metadata": {},
   "outputs": [],
   "source": [
    "def next_question(n_item):\n",
    "    resp1 = dataset['TEXTO'][n_item * 3 + 0]\n",
    "    resp2 = dataset['TEXTO'][n_item * 3 + 1]\n",
    "    resp3 = dataset['TEXTO'][n_item * 3 + 2]\n",
    "    correcta1 = dataset['OPCION_CORRECTA'][n_item * 3 + 0]\n",
    "    correcta2 = dataset['OPCION_CORRECTA'][n_item * 3 + 1]\n",
    "    correcta3 = dataset['OPCION_CORRECTA'][n_item * 3 + 2]\n",
    "    return (dataset['Parte'][n_item * 3], dataset['PREGUNTA'][n_item * 3])\n",
    "#print((resp1, resp2, resp3))\n",
    "#print((correcta1, correcta2, correcta3))"
   ]
  },
  {
   "cell_type": "code",
   "execution_count": 8,
   "metadata": {},
   "outputs": [],
   "source": [
    "def correct_question(n_item, idx):\n",
    "    return dataset['OPCION_CORRECTA'][n_item * 3 + idx] == \"S\""
   ]
  },
  {
   "cell_type": "code",
   "execution_count": 9,
   "metadata": {},
   "outputs": [],
   "source": [
    "cnt = 0"
   ]
  },
  {
   "cell_type": "code",
   "execution_count": 10,
   "metadata": {},
   "outputs": [],
   "source": [
    "def set_value(lks, n_item):\n",
    "    global cnt\n",
    "    if cnt >= 20:\n",
    "        cnt -= 20\n",
    "    else:\n",
    "        lks[cnt] = n_item\n",
    "        cnt += 1\n",
    "    return lks"
   ]
  },
  {
   "cell_type": "code",
   "execution_count": 11,
   "metadata": {
    "scrolled": true
   },
   "outputs": [
    {
     "name": "stdout",
     "output_type": "stream",
     "text": [
      "\n",
      "Item matrix has more than 4 columns. catsim tends to add             columns to the matrix during the simulation, so it's not a good idea to keep them.\n",
      "\n",
      "(20, 20)\n",
      "5.783369456\n",
      "Parte 1: Those windows are very dirty. I think ________.\n",
      "\n",
      "5.783369456\n",
      "Parte 1: This year, I would like _________Niagara Falls..\n",
      "\n",
      "5.811238405092435\n",
      "Parte 3: This room is totally untidy, I&#146;m going to_________________ it..\n",
      "\n",
      "5.882117565516684\n",
      "Parte 1: This situation is very uncomfortable. ____________  to Jim about it?.\n",
      "\n",
      "5.882117565516684\n",
      "Parte 2: This case is very difficult! ________________.\n",
      "\n",
      "5.9985967340895225\n",
      "Parte 1: This movie is boring as hell. Look! Even those guys______________.\n",
      "\n",
      "5.9985967340895225\n",
      "Parte 2: They _____________the dishes while the kids ______________..\n",
      "\n",
      "6.01211046568574\n",
      "Parte 2: This ________________ be the right answer. It's in the book..\n",
      "\n",
      "6.01211046568574\n",
      "Parte 3: The US movie industry has made attempts to sell _______ movies online..\n",
      "\n",
      "6.0592453631188965\n",
      "Parte 2: They ________________ be away for the weekend, but I&#146;m not sure..\n",
      "\n",
      "6.0592453631188965\n",
      "Parte 3: ________ the victims recognized him as the thief. Therefore, he was released right away..\n",
      "\n",
      "6.0592453631188965\n",
      "Parte 2: The sea level __________ if the planet ________ hotter..\n",
      "\n",
      "6.060617536855669\n",
      "Parte 3: The police were not able to find evidence against her, _____..\n",
      "\n",
      "6.066071666362154\n",
      "Parte 2: The night before the assignment was due, John ___________as much as possible on the topic, but there wasn&#146;t enough time..\n",
      "\n",
      "6.0891928619179625\n",
      "Parte 3: The mail carrier told us _____________ looking for the address for a long time..\n",
      "\n",
      "6.1016364753923025\n",
      "Parte 3: The kids didn&#146;t study. _____, they failed the course..\n",
      "\n",
      "6.104225445521887\n",
      "Parte 3: The passerby __________________ the paramedics..\n",
      "\n",
      "6.104225445521887\n",
      "Parte 3: The flight attendant __________________ fasten our safety belts..\n",
      "\n",
      "6.133614284408472\n",
      "Parte 1: The food in Japan is expensive. It ___ a lot to live there.<br><br>.\n",
      "\n",
      "6.133614284408472\n",
      "Parte 3: ________ the evidence is detailed, conclusive, and corroborated by multiple sources..\n",
      "\n",
      "From part 1 = [5]; part 2 = [6]; part 3 = [9].\n",
      "\n",
      "[True, True, True, True, True, True, True, True, True, True, True, True, True, True, True, True, True, True, True, True]\n"
     ]
    }
   ],
   "source": [
    "MAX_QUESTIONS = 20\n",
    "initializer = RandomInitializer()\n",
    "estimator = HillClimbingEstimator()\n",
    "stopper = MaxItemStopper(MAX_QUESTIONS)\n",
    "selector = MaxInfoSelector()\n",
    "cur_est_theta = np.random.normal(0.7, 0.2)\n",
    "administered_items = np.array([-1] * 20).T\n",
    "response_vector    = [False] * 20\n",
    "s = Simulator(items, 10)\n",
    "n_item = 0\n",
    "print((len(response_vector), len(administered_items)))\n",
    "stocastic = np.random.normal(1.7, 0.7)\n",
    "qstions = [0]*4\n",
    "\n",
    "for i in range(0, MAX_QUESTIONS):\n",
    "    #s.simulate(initializer, selector, estimator, stopper)\n",
    "    #administered_items = s.administered_items[np.random.randint(0, 10)]\n",
    "    cur_est_theta = estimator.estimate(index = n_item, items = items, administered_items = administered_items, response_vector = response_vector, est_theta = stocastic * cur_est_theta)\n",
    "    n_item = selector.select(index = n_item, administered_items = administered_items, items = items, est_theta=cur_est_theta + stocastic)\n",
    "    stocastic = np.random.normal(1.7, 0.01)\n",
    "    administered_items = set_value(administered_items, n_item)\n",
    "    print(cur_est_theta)\n",
    "    for x in range(0, 20):\n",
    "        response_vector[x] = [True, False][np.random.randint(0, 1)]\n",
    "        if not response_vector[x]:\n",
    "            stocastic -= np.random.normal(1.43, 0.02)\n",
    "    (nxt_p, nxt_q) = next_question(n_item)\n",
    "    qstions[int(nxt_p)] += 1\n",
    "    print(f\"Parte %d: %s.\\n\" % (int(nxt_p), nxt_q))\n",
    "print(f\"From part %d = [%d]; part %d = [%d]; part %d = [%d].\\n\" %(1, qstions[1], 2, qstions[2], 3, qstions[3]))\n",
    "print(response_vector)"
   ]
  },
  {
   "cell_type": "code",
   "execution_count": 12,
   "metadata": {},
   "outputs": [],
   "source": [
    "administered_items = np.array([-1] * 20).T"
   ]
  },
  {
   "cell_type": "code",
   "execution_count": 13,
   "metadata": {},
   "outputs": [
    {
     "data": {
      "text/plain": [
       "array([-1, -1, -1, -1, -1, -1, -1, -1, -1, -1, -1, -1, -1, -1, -1, -1, -1,\n",
       "       -1, -1, -1])"
      ]
     },
     "execution_count": 13,
     "metadata": {},
     "output_type": "execute_result"
    }
   ],
   "source": [
    "administered_items"
   ]
  },
  {
   "cell_type": "code",
   "execution_count": 14,
   "metadata": {},
   "outputs": [
    {
     "name": "stdout",
     "output_type": "stream",
     "text": [
      "20\n",
      "20\n"
     ]
    }
   ],
   "source": [
    "print(len(response_vector))\n",
    "print(administered_items.shape[0])\n",
    "if len(response_vector) != administered_items.shape[0]:\n",
    "    print(\"True\")"
   ]
  }
 ],
 "metadata": {
  "kernelspec": {
   "display_name": "Python 3",
   "language": "python",
   "name": "python3"
  },
  "language_info": {
   "codemirror_mode": {
    "name": "ipython",
    "version": 3
   },
   "file_extension": ".py",
   "mimetype": "text/x-python",
   "name": "python",
   "nbconvert_exporter": "python",
   "pygments_lexer": "ipython3",
   "version": "3.7.1"
  }
 },
 "nbformat": 4,
 "nbformat_minor": 2
}
